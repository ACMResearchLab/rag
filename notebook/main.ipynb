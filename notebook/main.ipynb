{
 "cells": [
  {
   "cell_type": "markdown",
   "metadata": {},
   "source": [
    "# Import Libraries"
   ]
  },
  {
   "cell_type": "code",
   "execution_count": 1,
   "metadata": {},
   "outputs": [
    {
     "data": {
      "text/plain": [
       "True"
      ]
     },
     "execution_count": 1,
     "metadata": {},
     "output_type": "execute_result"
    }
   ],
   "source": [
    "import sys\n",
    "import os   \n",
    "import glob\n",
    "import dotenv\n",
    "import argparse\n",
    "dotenv.load_dotenv()"
   ]
  },
  {
   "cell_type": "code",
   "execution_count": 2,
   "metadata": {},
   "outputs": [
    {
     "name": "stderr",
     "output_type": "stream",
     "text": [
      "/Users/shotomorisaki/Engineering/rag/.venv/lib/python3.12/site-packages/tqdm/auto.py:21: TqdmWarning: IProgress not found. Please update jupyter and ipywidgets. See https://ipywidgets.readthedocs.io/en/stable/user_install.html\n",
      "  from .autonotebook import tqdm as notebook_tqdm\n"
     ]
    }
   ],
   "source": [
    "PARENT_DIR = os.path.dirname(os.getcwd())\n",
    "SRC_DIR = os.path.join(PARENT_DIR, 'src')\n",
    "sys.path.append(SRC_DIR)\n",
    "\n",
    "DATA_DIR = os.path.join(PARENT_DIR, 'data')\n",
    "\n",
    "from analyzer import CSVAnalyzer\n",
    "from graph import Graph\n",
    "from gpt import GPT\n",
    "from CodeRetriever import CodeRetriever\n",
    "from tokenizer import Tokenize"
   ]
  },
  {
   "cell_type": "markdown",
   "metadata": {},
   "source": [
    "# Code Segment"
   ]
  },
  {
   "cell_type": "code",
   "execution_count": 3,
   "metadata": {},
   "outputs": [],
   "source": [
    "files = glob.glob(os.path.join(SRC_DIR, '*'))"
   ]
  },
  {
   "cell_type": "code",
   "execution_count": 4,
   "metadata": {},
   "outputs": [],
   "source": [
    "# retriever = CodeRetriever()\n",
    "\n",
    "# # file_name = files[0]\n",
    "# file_name = '../src/dummy.py'\n",
    "# query = \"function query\"\n",
    "# model = \"openai\" # sentence-transformers/msmarco-MiniLM-L-12-v3, openai\n",
    "\n",
    "# retriever.process_file(file_name, query, model)"
   ]
  },
  {
   "cell_type": "code",
   "execution_count": 5,
   "metadata": {},
   "outputs": [],
   "source": [
    "import warnings\n",
    "\n",
    "# Suppress specific UserWarning about floor division\n",
    "warnings.filterwarnings(\"ignore\", message=\"__floordiv__ is deprecated\")\n"
   ]
  },
  {
   "cell_type": "code",
   "execution_count": 6,
   "metadata": {},
   "outputs": [
    {
     "name": "stderr",
     "output_type": "stream",
     "text": [
      "/Users/shotomorisaki/Engineering/rag/.venv/lib/python3.12/site-packages/transformers/generation/utils.py:1178: UserWarning: Using the model-agnostic default `max_length` (=20) to control the generation length. We recommend setting `max_new_tokens` to control the maximum length of the generation.\n",
      "  warnings.warn(\n"
     ]
    },
    {
     "data": {
      "text/plain": [
       "[1, 5, 246534]"
      ]
     },
     "execution_count": 6,
     "metadata": {},
     "output_type": "execute_result"
    }
   ],
   "source": [
    "import torch\n",
    "from transformers import AutoTokenizer, CTRLLMHeadModel\n",
    "\n",
    "tokenizer = AutoTokenizer.from_pretrained(\"Salesforce/ctrl\")\n",
    "model = CTRLLMHeadModel.from_pretrained(\"Salesforce/ctrl\")\n",
    "\n",
    "# CTRL was trained with control codes as the first token\n",
    "inputs = tokenizer(\"Wikipedia The llama is\", return_tensors=\"pt\")\n",
    "assert inputs[\"input_ids\"][0, 0].item() in tokenizer.control_codes.values()\n",
    "\n",
    "sequence_ids = model.generate(inputs[\"input_ids\"])\n",
    "sequences = tokenizer.batch_decode(sequence_ids)\n",
    "sequences\n",
    "\n",
    "outputs = model(**inputs, labels=inputs[\"input_ids\"])\n",
    "round(outputs.loss.item(), 2)\n",
    "\n",
    "list(outputs.logits.shape)"
   ]
  },
  {
   "cell_type": "code",
   "execution_count": null,
   "metadata": {},
   "outputs": [],
   "source": [
    "import torch\n",
    "from transformers import AutoTokenizer, CTRLLMHeadModel\n",
    "\n",
    "class TextGenerator:\n",
    "    def __init__(self, model_name=\"Salesforce/ctrl\"):\n",
    "        self.tokenizer = AutoTokenizer.from_pretrained(model_name)\n",
    "        self.model = CTRLLMHeadModel.from_pretrained(model_name)\n",
    "\n",
    "    def text_generation_pipeline(self, input_text, max_length=200):\n",
    "        inputs = self.tokenizer(input_text, return_tensors=\"pt\")\n",
    "        generation_config = {\"max_length\": max_length}\n",
    "        sequence_ids = self.model.generate(inputs[\"input_ids\"], **generation_config)\n",
    "        sequences = self.tokenizer.batch_decode(sequence_ids)\n",
    "        outputs = self.model(**inputs, labels=inputs[\"input_ids\"])\n",
    "        round(outputs.loss.item(), 2)\n",
    "        return list(outputs.logits.shape)\n",
    "    \n",
    "text_generator = TextGenerator()\n",
    "\n",
    "english_translated_text = \"The given code is a Python implementation of BLEU (Bilingual Evaluation Understudy) and smooth-BLEU, which are metrics for evaluating the quality of machine translation outputs. The code includes functions for computing n-grams, calculating BLEU scores, and applying smoothing techniques as outlined in the paper by Chin-Yew Lin and Franz Josef Och (COLING 2004). The main function `compute_bleu` takes reference and translation corpora as input and returns the BLEU score, n-gram precisions, geometric mean of n-gram precisions, and brevity penalty. Additionally, there's a helper function `_bleu` which takes a reference sentence and a translated sentence as input, and returns the BLEU score for that particular pair of sentences. The code also includes a license and citation to specify the rights and credits related to the implementation.\"\n",
    "\n",
    "generated_sequences = text_generator.text_generation_pipeline(english_translated_text)\n",
    "print(generated_sequences)"
   ]
  }
 ],
 "metadata": {
  "kernelspec": {
   "display_name": ".venv",
   "language": "python",
   "name": "python3"
  },
  "language_info": {
   "codemirror_mode": {
    "name": "ipython",
    "version": 3
   },
   "file_extension": ".py",
   "mimetype": "text/x-python",
   "name": "python",
   "nbconvert_exporter": "python",
   "pygments_lexer": "ipython3",
   "version": "3.12.1"
  }
 },
 "nbformat": 4,
 "nbformat_minor": 2
}
